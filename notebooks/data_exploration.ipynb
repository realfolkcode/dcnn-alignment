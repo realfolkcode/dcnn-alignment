{
 "cells": [
  {
   "cell_type": "markdown",
   "metadata": {},
   "source": [
    "# Exploring ASAP dataset"
   ]
  },
  {
   "cell_type": "markdown",
   "metadata": {},
   "source": [
    "Dataset of [Aligned Scores and Performances](https://github.com/fosfrancesco/asap-dataset/tree/master)"
   ]
  },
  {
   "cell_type": "code",
   "execution_count": 1,
   "metadata": {},
   "outputs": [],
   "source": [
    "import os\n",
    "import json"
   ]
  },
  {
   "cell_type": "code",
   "execution_count": 2,
   "metadata": {},
   "outputs": [],
   "source": [
    "# Path to the clonned ASAP repository\n",
    "\n",
    "asap_dir = \"../../asap-dataset\""
   ]
  },
  {
   "cell_type": "code",
   "execution_count": 3,
   "metadata": {},
   "outputs": [],
   "source": [
    "annotations_path = os.path.join(asap_dir, 'asap_annotations.json')"
   ]
  },
  {
   "cell_type": "code",
   "execution_count": 4,
   "metadata": {},
   "outputs": [],
   "source": [
    "with open(annotations_path, \"r\", encoding=\"utf8\") as f:\n",
    "    annotations = json.load(f)"
   ]
  },
  {
   "cell_type": "code",
   "execution_count": 10,
   "metadata": {},
   "outputs": [
    {
     "name": "stdout",
     "output_type": "stream",
     "text": [
      "Number of pieces in ASAP: 1067\n"
     ]
    }
   ],
   "source": [
    "print(f\"Number of pieces in ASAP: {len(annotations)}\")"
   ]
  },
  {
   "cell_type": "markdown",
   "metadata": {},
   "source": [
    "Let's take a look at one of the performances of Schubert's Impromptu Op. 90 No. 2"
   ]
  },
  {
   "cell_type": "code",
   "execution_count": 6,
   "metadata": {},
   "outputs": [],
   "source": [
    "perf_title = 'Schubert/Impromptu_op.90_D.899/2/Denisova11M.mid'"
   ]
  },
  {
   "cell_type": "code",
   "execution_count": 11,
   "metadata": {},
   "outputs": [
    {
     "data": {
      "text/plain": [
       "['performance_beats',\n",
       " 'performance_downbeats',\n",
       " 'performance_beats_type',\n",
       " 'perf_time_signatures',\n",
       " 'perf_key_signatures',\n",
       " 'midi_score_beats',\n",
       " 'midi_score_downbeats',\n",
       " 'midi_score_beats_type',\n",
       " 'midi_score_time_signatures',\n",
       " 'midi_score_key_signatures',\n",
       " 'downbeats_score_map',\n",
       " 'score_and_performance_aligned']"
      ]
     },
     "execution_count": 11,
     "metadata": {},
     "output_type": "execute_result"
    }
   ],
   "source": [
    "list(annotations[perf_title].keys())"
   ]
  },
  {
   "cell_type": "code",
   "execution_count": 15,
   "metadata": {},
   "outputs": [
    {
     "name": "stdout",
     "output_type": "stream",
     "text": [
      "Number of annotated beats in performance: 848\n"
     ]
    }
   ],
   "source": [
    "print(\"Number of annotated beats in performance:\",\n",
    "      len(annotations[perf_title]['performance_beats']))"
   ]
  },
  {
   "cell_type": "code",
   "execution_count": 16,
   "metadata": {},
   "outputs": [
    {
     "name": "stdout",
     "output_type": "stream",
     "text": [
      "Number of annotated beats in the score: 848\n"
     ]
    }
   ],
   "source": [
    "print(\"Number of annotated beats in the score:\",\n",
    "      len(annotations[perf_title]['midi_score_beats']))"
   ]
  },
  {
   "cell_type": "markdown",
   "metadata": {},
   "source": [
    "As we can see, the number of annotated beats match."
   ]
  }
 ],
 "metadata": {
  "kernelspec": {
   "display_name": "dcnn",
   "language": "python",
   "name": "python3"
  },
  "language_info": {
   "codemirror_mode": {
    "name": "ipython",
    "version": 3
   },
   "file_extension": ".py",
   "mimetype": "text/x-python",
   "name": "python",
   "nbconvert_exporter": "python",
   "pygments_lexer": "ipython3",
   "version": "3.10.13"
  },
  "orig_nbformat": 4
 },
 "nbformat": 4,
 "nbformat_minor": 2
}
